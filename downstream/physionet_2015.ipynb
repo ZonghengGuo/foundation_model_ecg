{
 "cells": [
  {
   "metadata": {
    "ExecuteTime": {
     "end_time": "2025-03-13T15:37:26.788953Z",
     "start_time": "2025-03-13T15:37:26.780947Z"
    }
   },
   "cell_type": "code",
   "source": [
    "import os\n",
    "import wfdb\n",
    "from pprint import pprint"
   ],
   "id": "f76b8f120a7029bc",
   "outputs": [],
   "execution_count": 9
  },
  {
   "cell_type": "code",
   "id": "initial_id",
   "metadata": {
    "collapsed": true,
    "ExecuteTime": {
     "end_time": "2025-03-13T15:42:38.131638Z",
     "start_time": "2025-03-13T15:42:38.107676Z"
    }
   },
   "source": [
    "database_path = \"D:/database/PhysioNet2015/training\"\n",
    "test_sample_path = os.path.join(database_path, \"a103l\")\n",
    "\n",
    "sample_record = wfdb.rdrecord(test_sample_path)\n",
    "pprint(vars(sample_record))\n",
    "fs = sample_record.fs\n",
    "length = sample_record.sig_len\n",
    "\n",
    "print(f\"The record has {length//fs} minutes\")"
   ],
   "outputs": [
    {
     "name": "stdout",
     "output_type": "stream",
     "text": [
      "{'adc_gain': [7247.0, 10520.0, 12530.0],\n",
      " 'adc_res': [16, 16, 16],\n",
      " 'adc_zero': [0, 0, 0],\n",
      " 'base_counter': None,\n",
      " 'base_date': None,\n",
      " 'base_time': None,\n",
      " 'baseline': [0, 0, 0],\n",
      " 'block_size': [0, 0, 0],\n",
      " 'byte_offset': [24, 24, 24],\n",
      " 'checksum': [-27403, -301, -17391],\n",
      " 'comments': ['Asystole', 'False alarm'],\n",
      " 'counter_freq': None,\n",
      " 'd_signal': None,\n",
      " 'e_d_signal': None,\n",
      " 'e_p_signal': None,\n",
      " 'file_name': ['a103l.mat', 'a103l.mat', 'a103l.mat'],\n",
      " 'fmt': ['16', '16', '16'],\n",
      " 'fs': 250,\n",
      " 'init_value': [-171, 9127, 6042],\n",
      " 'n_sig': 3,\n",
      " 'p_signal': array([[-0.02359597,  0.86758555,  0.48220271],\n",
      "       [-0.03698082,  0.98298479,  0.5443735 ],\n",
      "       [-0.06292259,  0.85979087,  0.47821229],\n",
      "       ...,\n",
      "       [-0.04084449,  0.7493346 ,  0.5150838 ],\n",
      "       [-0.04719194,  0.7581749 ,  0.50957702],\n",
      "       [-0.04677798,  0.7615019 ,  0.5028731 ]], shape=(82500, 3)),\n",
      " 'record_name': 'a103l',\n",
      " 'samps_per_frame': [1, 1, 1],\n",
      " 'sig_len': 82500,\n",
      " 'sig_name': ['II', 'V', 'PLETH'],\n",
      " 'skew': [None, None, None],\n",
      " 'units': ['mV', 'mV', 'NU']}\n",
      "The mins of record of is 330\n"
     ]
    }
   ],
   "execution_count": 12
  }
 ],
 "metadata": {
  "kernelspec": {
   "display_name": "Python 3",
   "language": "python",
   "name": "python3"
  },
  "language_info": {
   "codemirror_mode": {
    "name": "ipython",
    "version": 2
   },
   "file_extension": ".py",
   "mimetype": "text/x-python",
   "name": "python",
   "nbconvert_exporter": "python",
   "pygments_lexer": "ipython2",
   "version": "2.7.6"
  }
 },
 "nbformat": 4,
 "nbformat_minor": 5
}
